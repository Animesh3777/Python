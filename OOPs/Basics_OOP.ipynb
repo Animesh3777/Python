{
 "cells": [
  {
   "cell_type": "code",
   "execution_count": 1,
   "id": "2a740ceb-5b5e-4489-95ce-3f937eee44db",
   "metadata": {},
   "outputs": [],
   "source": [
    "# Object is an instanc of class.\n",
    "# Synatx to create and Object\n",
    "# object name = classname()"
   ]
  },
  {
   "cell_type": "code",
   "execution_count": null,
   "id": "fd3b9356-f773-4aaa-9a91-bd2c834ebe0f",
   "metadata": {},
   "outputs": [],
   "source": [
    "# Rule to name a class :-> #pascal case\n",
    "# example # HelloWorld"
   ]
  },
  {
   "cell_type": "code",
   "execution_count": 3,
   "id": "5b373ffd-ae50-4a47-99fa-5560f015df5a",
   "metadata": {},
   "outputs": [],
   "source": [
    "# L=[1,2,3]\n",
    "# len(L) # len - Is a function -> Bcoz it is outside of the list class.\n",
    "# L.append() # append- Is a method -> bcoz it is inside the List class.\n",
    "#     len() is a built-in function.\n",
    "#     append() is a method associated with the list class."
   ]
  },
  {
   "cell_type": "code",
   "execution_count": 5,
   "id": "51ade745-b834-438b-aea6-ba35b91a50f8",
   "metadata": {},
   "outputs": [
    {
     "name": "stdout",
     "output_type": "stream",
     "text": [
      "10/8\n",
      "2/8\n",
      "3/8\n",
      "6/4\n"
     ]
    },
    {
     "data": {
      "text/plain": [
       "0.75"
      ]
     },
     "execution_count": 5,
     "metadata": {},
     "output_type": "execute_result"
    }
   ],
   "source": [
    "#Fraction DataType using OOP\n",
    "class fraction:\n",
    "    #parameterized constructor\n",
    "    def __init__(self,x,y):\n",
    "        self.num=x\n",
    "        self.den=y\n",
    "        \n",
    "    def __str__(self):\n",
    "        return '{}/{}'.format(self.num,self.den)\n",
    "\n",
    "    def __add__(self,other):\n",
    "        new_num=(self.num*other.den)+(other.num*self.den)\n",
    "        new_den= self.den*other.den\n",
    "        return '{}/{}'.format(new_num,new_den)\n",
    "\n",
    "    def __sub__(self,other):\n",
    "        new_num=(self.num*other.den)-(other.num*self.den)\n",
    "        new_den= self.den*other.den\n",
    "        return '{}/{}'.format(new_num,new_den)\n",
    "\n",
    "    def __mul__(self,other):\n",
    "        new_num=self.num *other.num\n",
    "        new_den= self.den*other.den\n",
    "        return '{}/{}'.format(new_num,new_den) \n",
    "        \n",
    "    def __truediv__(self,other):\n",
    "        new_num=self.num *other.den\n",
    "        new_den= self.den*other.num\n",
    "        return '{}/{}'.format(new_num,new_den) \n",
    "        \n",
    "    def convert_to_decimal(self):\n",
    "        return self.num/self.den\n",
    "\n",
    "\n",
    "\n",
    "fr1=fraction(3,4)\n",
    "fr2=fraction(1,2)\n",
    "print(fr1 + fr2)\n",
    "print(fr1 - fr2)\n",
    "print(fr1 * fr2)\n",
    "print(fr1 / fr2)\n",
    "fr1.convert_to_decimal()"
   ]
  },
  {
   "cell_type": "code",
   "execution_count": 5,
   "id": "57affb6a-f2b4-4cb3-9229-86082eac5076",
   "metadata": {},
   "outputs": [
    {
     "name": "stdout",
     "output_type": "stream",
     "text": [
      "1x+1y+-2=0\n",
      "<1,5>\n"
     ]
    },
    {
     "data": {
      "text/plain": [
       "2.82842712474619"
      ]
     },
     "execution_count": 5,
     "metadata": {},
     "output_type": "execute_result"
    }
   ],
   "source": [
    "#Quadratic Eqn Application using OOP\n",
    "\n",
    "class point:\n",
    "    def __init__(self,x,y):\n",
    "        self.x_cod=x\n",
    "        self.y_cod=y\n",
    "    def __str__(self):\n",
    "        return '<{},{}>'.format(self.x_cod,self.y_cod) \n",
    "    def euclidean_distance(self,other):\n",
    "        return ((self.x_cod-other.x_cod)**2+(self.y_cod-other.y_cod)**2)**0.5\n",
    "    def distance_from_origin(self):\n",
    "        # return self.euclidean_distance(point(0,0))\n",
    "        return (self.x_cod**2+self.y_cod**2)**0.5\n",
    "\n",
    "class line:\n",
    "    def __init__(self,A,B,C):\n",
    "        self.A=A\n",
    "        self.B=B\n",
    "        self.C=C\n",
    "\n",
    "    def __str__(self):\n",
    "        return \"{}x+{}y+{}=0\".format(self.A,self.B,self.C)\n",
    "\n",
    "    def point_on_line(line,point):\n",
    "        if line.A*point.x_cod+line.B*point.y_cod+line.C==0:\n",
    "            return \"lies on the line\"\n",
    "        else:\n",
    "            return \"does not lies on the line\"\n",
    "\n",
    "    def shortest_distance(line,point):\n",
    "        return abs(line.A*point.x_cod +line.B*point.y_cod +line.C)/(line.A**2+line.B**2)**0.5\n",
    "\n",
    "# p1=point(0,0)\n",
    "# p2=point(1,1)\n",
    "# print(point(p1,p2))\n",
    "# p1.euclidean_dista(p2)\n",
    "# p2.distance_from_origin()\n",
    "\n",
    "l1=line(1,1,-2)\n",
    "p1=point(1,5)\n",
    "print(l1)\n",
    "print(p1)\n",
    "\n",
    "# l1.point_on_line(p1)\n",
    "l1.shortest_distance(p1)\n",
    "\n"
   ]
  },
  {
   "cell_type": "code",
   "execution_count": 11,
   "id": "048826e1-a5d7-4932-9541-47c7bf2ec48e",
   "metadata": {},
   "outputs": [
    {
     "name": "stdout",
     "output_type": "stream",
     "text": [
      "Namaste Jarvis\n"
     ]
    }
   ],
   "source": [
    "class person:\n",
    "    def __init__(self,name_input,country_input):\n",
    "        self.name = name_input\n",
    "        self.country = country_input\n",
    "    def greet(self):\n",
    "        if self.country==\"India\":\n",
    "            print('Namaste',self.name)\n",
    "        else:\n",
    "            print('Hello',self.name)\n",
    "\n",
    "# how to access attributes\n",
    "p=person('Jarvis','India')\n",
    "p.country\n",
    "p.name\n",
    "p.greet()\n"
   ]
  },
  {
   "cell_type": "code",
   "execution_count": 13,
   "id": "64259cbc-577b-4bf9-9efb-cf62741f4714",
   "metadata": {},
   "outputs": [
    {
     "data": {
      "text/plain": [
       "'male'"
      ]
     },
     "execution_count": 13,
     "metadata": {},
     "output_type": "execute_result"
    }
   ],
   "source": [
    "# what if i try to access  non -existent attributes\n",
    "p.gender='male'\n",
    "p.gender"
   ]
  },
  {
   "cell_type": "code",
   "execution_count": null,
   "id": "dc7da56e-8a32-4b9e-9f5b-d7cb6ba855bf",
   "metadata": {},
   "outputs": [],
   "source": []
  },
  {
   "cell_type": "code",
   "execution_count": null,
   "id": "9f43299f-8958-4969-8e8a-e20e9576df89",
   "metadata": {},
   "outputs": [],
   "source": []
  },
  {
   "cell_type": "code",
   "execution_count": null,
   "id": "f0ad5d61-e8b4-4093-a69c-df4ead4f6724",
   "metadata": {},
   "outputs": [],
   "source": []
  },
  {
   "cell_type": "code",
   "execution_count": null,
   "id": "05f6d52b-2df7-474c-92c7-cdef67c5b1c3",
   "metadata": {},
   "outputs": [],
   "source": []
  },
  {
   "cell_type": "code",
   "execution_count": null,
   "id": "5f0ca70f-1bc4-45e7-80ba-24d3d98891b0",
   "metadata": {},
   "outputs": [],
   "source": []
  },
  {
   "cell_type": "code",
   "execution_count": null,
   "id": "605c3bda-72be-445b-957d-f2a4e55b4054",
   "metadata": {},
   "outputs": [],
   "source": []
  },
  {
   "cell_type": "code",
   "execution_count": null,
   "id": "e933f9e0-2b5e-4b30-965e-b9370307e013",
   "metadata": {},
   "outputs": [],
   "source": []
  }
 ],
 "metadata": {
  "kernelspec": {
   "display_name": "Python 3 (ipykernel)",
   "language": "python",
   "name": "python3"
  },
  "language_info": {
   "codemirror_mode": {
    "name": "ipython",
    "version": 3
   },
   "file_extension": ".py",
   "mimetype": "text/x-python",
   "name": "python",
   "nbconvert_exporter": "python",
   "pygments_lexer": "ipython3",
   "version": "3.11.5"
  }
 },
 "nbformat": 4,
 "nbformat_minor": 5
}
