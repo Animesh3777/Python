{
 "cells": [
  {
   "cell_type": "code",
   "execution_count": 1,
   "id": "2a740ceb-5b5e-4489-95ce-3f937eee44db",
   "metadata": {},
   "outputs": [],
   "source": [
    "# Object is an instanc of class.\n",
    "# Synatx to create and Object\n",
    "# object name = classname()"
   ]
  },
  {
   "cell_type": "code",
   "execution_count": null,
   "id": "fd3b9356-f773-4aaa-9a91-bd2c834ebe0f",
   "metadata": {},
   "outputs": [],
   "source": [
    "# Rule to name a class :-> #pascal case\n",
    "# example # HelloWorld"
   ]
  },
  {
   "cell_type": "code",
   "execution_count": null,
   "id": "5b373ffd-ae50-4a47-99fa-5560f015df5a",
   "metadata": {},
   "outputs": [],
   "source": []
  },
  {
   "cell_type": "code",
   "execution_count": 3,
   "id": "93dbfa98-f6aa-40c3-b0ee-53d735c3f59b",
   "metadata": {},
   "outputs": [
    {
     "ename": "SyntaxError",
     "evalue": "incomplete input (3504128948.py, line 4)",
     "output_type": "error",
     "traceback": [
      "\u001b[1;36m  Cell \u001b[1;32mIn[3], line 4\u001b[1;36m\u001b[0m\n\u001b[1;33m    \u001b[0m\n\u001b[1;37m    ^\u001b[0m\n\u001b[1;31mSyntaxError\u001b[0m\u001b[1;31m:\u001b[0m incomplete input\n"
     ]
    }
   ],
   "source": [
    "class Atm:\n",
    "    #constructor :-> function inside the class\n",
    "    def __init__(self):\n",
    "        self.pin=\"\"\n",
    "        "
   ]
  },
  {
   "cell_type": "code",
   "execution_count": null,
   "id": "51ade745-b834-438b-aea6-ba35b91a50f8",
   "metadata": {},
   "outputs": [],
   "source": []
  },
  {
   "cell_type": "code",
   "execution_count": null,
   "id": "57affb6a-f2b4-4cb3-9229-86082eac5076",
   "metadata": {},
   "outputs": [],
   "source": []
  },
  {
   "cell_type": "code",
   "execution_count": null,
   "id": "048826e1-a5d7-4932-9541-47c7bf2ec48e",
   "metadata": {},
   "outputs": [],
   "source": []
  },
  {
   "cell_type": "code",
   "execution_count": null,
   "id": "64259cbc-577b-4bf9-9efb-cf62741f4714",
   "metadata": {},
   "outputs": [],
   "source": []
  },
  {
   "cell_type": "code",
   "execution_count": null,
   "id": "dc7da56e-8a32-4b9e-9f5b-d7cb6ba855bf",
   "metadata": {},
   "outputs": [],
   "source": []
  },
  {
   "cell_type": "code",
   "execution_count": null,
   "id": "9f43299f-8958-4969-8e8a-e20e9576df89",
   "metadata": {},
   "outputs": [],
   "source": []
  },
  {
   "cell_type": "code",
   "execution_count": null,
   "id": "f0ad5d61-e8b4-4093-a69c-df4ead4f6724",
   "metadata": {},
   "outputs": [],
   "source": []
  },
  {
   "cell_type": "code",
   "execution_count": null,
   "id": "05f6d52b-2df7-474c-92c7-cdef67c5b1c3",
   "metadata": {},
   "outputs": [],
   "source": []
  },
  {
   "cell_type": "code",
   "execution_count": null,
   "id": "5f0ca70f-1bc4-45e7-80ba-24d3d98891b0",
   "metadata": {},
   "outputs": [],
   "source": []
  },
  {
   "cell_type": "code",
   "execution_count": null,
   "id": "605c3bda-72be-445b-957d-f2a4e55b4054",
   "metadata": {},
   "outputs": [],
   "source": []
  },
  {
   "cell_type": "code",
   "execution_count": null,
   "id": "e933f9e0-2b5e-4b30-965e-b9370307e013",
   "metadata": {},
   "outputs": [],
   "source": []
  }
 ],
 "metadata": {
  "kernelspec": {
   "display_name": "Python 3 (ipykernel)",
   "language": "python",
   "name": "python3"
  },
  "language_info": {
   "codemirror_mode": {
    "name": "ipython",
    "version": 3
   },
   "file_extension": ".py",
   "mimetype": "text/x-python",
   "name": "python",
   "nbconvert_exporter": "python",
   "pygments_lexer": "ipython3",
   "version": "3.11.5"
  }
 },
 "nbformat": 4,
 "nbformat_minor": 5
}
