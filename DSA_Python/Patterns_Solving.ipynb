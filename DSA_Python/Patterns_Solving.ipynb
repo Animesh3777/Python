{
 "cells": [
  {
   "cell_type": "code",
   "execution_count": 1,
   "id": "25cb9302-b88e-441c-9f65-aac8992f88f0",
   "metadata": {
    "scrolled": true
   },
   "outputs": [
    {
     "name": "stdin",
     "output_type": "stream",
     "text": [
      "Enter nos of columns 5\n",
      "Enter nos of rows 5\n"
     ]
    },
    {
     "name": "stdout",
     "output_type": "stream",
     "text": [
      "* * * * * \n",
      "* * * * * \n",
      "* * * * * \n",
      "* * * * * \n",
      "* * * * * \n"
     ]
    }
   ],
   "source": [
    "cols=int(input('Enter nos of columns'))\n",
    "rows=int(input('Enter nos of rows'))\n",
    "for row in range(0,rows):\n",
    "    for col in range(0,cols):\n",
    "        print(\"* \",end=\"\")\n",
    "    print()"
   ]
  },
  {
   "cell_type": "code",
   "execution_count": 2,
   "id": "3ec62d3b-7f5e-4c86-8d65-3d0dbd86b39b",
   "metadata": {
    "scrolled": true
   },
   "outputs": [
    {
     "name": "stdout",
     "output_type": "stream",
     "text": [
      "* * * * * \n",
      "*       * \n",
      "*       * \n",
      "* * * * * \n"
     ]
    }
   ],
   "source": [
    "for i in range (4):\n",
    "    if i==0 or i==3:\n",
    "        print(\"* \"*5)\n",
    "    else:\n",
    "        print(\"* \",end=\"\")\n",
    "        for j in range(3):\n",
    "            print(\"  \",end=\"\")\n",
    "        print(\"* \")"
   ]
  },
  {
   "cell_type": "code",
   "execution_count": 40,
   "id": "edbe8173-1392-470b-bac7-5c1b0044440a",
   "metadata": {},
   "outputs": [
    {
     "name": "stdin",
     "output_type": "stream",
     "text": [
      "Enter numbers of rows :  5\n"
     ]
    },
    {
     "name": "stdout",
     "output_type": "stream",
     "text": [
      "*\n",
      "**\n",
      "***\n",
      "****\n",
      "*****\n"
     ]
    }
   ],
   "source": [
    "rows=int(input(\"Enter numbers of rows : \"))\n",
    "col=1\n",
    "for row in range (0,rows):\n",
    "    for cols in range (0,col):\n",
    "        print (\"*\",end=\"\")\n",
    "    print(\"\")\n",
    "    col+=1"
   ]
  },
  {
   "cell_type": "code",
   "execution_count": 41,
   "id": "15231cbc-2f68-4db0-8fd1-fc5d3cad4489",
   "metadata": {},
   "outputs": [
    {
     "name": "stdin",
     "output_type": "stream",
     "text": [
      "Enter numbers of rows :  10\n"
     ]
    },
    {
     "name": "stdout",
     "output_type": "stream",
     "text": [
      "*\n",
      "**\n",
      "***\n",
      "****\n",
      "*****\n",
      "******\n",
      "*******\n",
      "********\n",
      "*********\n",
      "**********\n"
     ]
    }
   ],
   "source": [
    "rows=int(input(\"Enter numbers of rows : \"))\n",
    "col=1\n",
    "for row in range (0,rows):\n",
    "    for cols in range (0,col):\n",
    "        print (\"*\",end=\"\")\n",
    "    print(\"\")\n",
    "    col+=1"
   ]
  },
  {
   "cell_type": "code",
   "execution_count": null,
   "id": "3be61c28-667c-4695-b8e3-c98ae04d125c",
   "metadata": {},
   "outputs": [],
   "source": []
  },
  {
   "cell_type": "code",
   "execution_count": null,
   "id": "126b7ee9-9a7e-42c0-ab5b-2ae58df07223",
   "metadata": {},
   "outputs": [],
   "source": []
  },
  {
   "cell_type": "code",
   "execution_count": null,
   "id": "233092a1-3653-4cf3-9b4c-84fb61257b57",
   "metadata": {},
   "outputs": [],
   "source": []
  },
  {
   "cell_type": "code",
   "execution_count": null,
   "id": "5b599411-49a8-43ec-b0d8-b488cc64768d",
   "metadata": {},
   "outputs": [],
   "source": []
  }
 ],
 "metadata": {
  "kernelspec": {
   "display_name": "Python 3 (ipykernel)",
   "language": "python",
   "name": "python3"
  },
  "language_info": {
   "codemirror_mode": {
    "name": "ipython",
    "version": 3
   },
   "file_extension": ".py",
   "mimetype": "text/x-python",
   "name": "python",
   "nbconvert_exporter": "python",
   "pygments_lexer": "ipython3",
   "version": "3.11.5"
  }
 },
 "nbformat": 4,
 "nbformat_minor": 5
}
