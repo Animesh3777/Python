{
 "cells": [
  {
   "cell_type": "code",
   "execution_count": 1,
   "metadata": {},
   "outputs": [],
   "source": [
    "import pymongo\n",
    "client=pymongo.MongoClient('mongodb://127.0.0.1:27017/')\n",
    "mydb=client['Employee']\n",
    "empinfo=mydb.employeeinformation"
   ]
  },
  {
   "cell_type": "code",
   "execution_count": 2,
   "metadata": {},
   "outputs": [
    {
     "data": {
      "text/plain": [
       "InsertOneResult(ObjectId('6589bb50099338b2cd057bf1'), acknowledged=True)"
      ]
     },
     "execution_count": 2,
     "metadata": {},
     "output_type": "execute_result"
    }
   ],
   "source": [
    "record = {\n",
    "    'firstname': 'Animesh',\n",
    "    'lastname': 'Kumar',\n",
    "    'department': 'Quant',\n",
    "    'qualification': 'BE',\n",
    "    'age': 29\n",
    "}\n",
    "\n",
    "empinfo.insert_one(record)\n"
   ]
  },
  {
   "cell_type": "code",
   "execution_count": 5,
   "metadata": {},
   "outputs": [],
   "source": [
    "records = [{\n",
    "    'firstname': 'Animesh',\n",
    "    'lastname': 'Kumar',\n",
    "    'department': 'Quant',\n",
    "    'qualification': 'BE',\n",
    "    'age': 20\n",
    "},{\n",
    "    'firstname': 'Ani',\n",
    "    'lastname': 'Kr',\n",
    "    'department': 'Quant',\n",
    "    'qualification': 'BE',\n",
    "    'age': 25\n",
    "},{\n",
    "    'firstname': 'Mohit',\n",
    "    'lastname': 'Kumar',\n",
    "    'department': 'Quant',\n",
    "    'qualification': 'BE',\n",
    "    'age': 22\n",
    "}]"
   ]
  },
  {
   "cell_type": "code",
   "execution_count": 6,
   "metadata": {},
   "outputs": [
    {
     "data": {
      "text/plain": [
       "InsertManyResult([ObjectId('6589bb58099338b2cd057bf2'), ObjectId('6589bb58099338b2cd057bf3'), ObjectId('6589bb58099338b2cd057bf4')], acknowledged=True)"
      ]
     },
     "execution_count": 6,
     "metadata": {},
     "output_type": "execute_result"
    }
   ],
   "source": [
    "empinfo.insert_many(records)"
   ]
  },
  {
   "cell_type": "code",
   "execution_count": null,
   "metadata": {},
   "outputs": [],
   "source": []
  }
 ],
 "metadata": {
  "kernelspec": {
   "display_name": "Python 3 (ipykernel)",
   "language": "python",
   "name": "python3"
  },
  "language_info": {
   "codemirror_mode": {
    "name": "ipython",
    "version": 3
   },
   "file_extension": ".py",
   "mimetype": "text/x-python",
   "name": "python",
   "nbconvert_exporter": "python",
   "pygments_lexer": "ipython3",
   "version": "3.11.5"
  }
 },
 "nbformat": 4,
 "nbformat_minor": 4
}
