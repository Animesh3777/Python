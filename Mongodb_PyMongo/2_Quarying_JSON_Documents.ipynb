{
 "cells": [
  {
   "cell_type": "code",
   "execution_count": 1,
   "metadata": {},
   "outputs": [],
   "source": [
    "import pymongo\n",
    "client=pymongo.MongoClient('mongodb://127.0.0.1:27017/')\n",
    "mydb=client['Employees']\n",
    "empinfo=mydb.employeeinformation"
   ]
  },
  {
   "cell_type": "code",
   "execution_count": 2,
   "metadata": {},
   "outputs": [
    {
     "data": {
      "text/plain": [
       "InsertOneResult(ObjectId('6589c4ca58e2a8fb00a828da'), acknowledged=True)"
      ]
     },
     "execution_count": 2,
     "metadata": {},
     "output_type": "execute_result"
    }
   ],
   "source": [
    "record = {\n",
    "    'firstname': 'Animesh',\n",
    "    'lastname': 'Kumar',\n",
    "    'department': 'Quant',\n",
    "    'qualification': 'BE',\n",
    "    'age': 29\n",
    "}\n",
    "\n",
    "empinfo.insert_one(record)\n"
   ]
  },
  {
   "cell_type": "code",
   "execution_count": 3,
   "metadata": {},
   "outputs": [],
   "source": [
    "records = [{\n",
    "    'firstname': 'Animesh',\n",
    "    'lastname': 'Kumar',\n",
    "    'department': 'Quant',\n",
    "    'qualification': 'Engineering',\n",
    "    'age': 20\n",
    "},{\n",
    "    'firstname': 'Ani',\n",
    "    'lastname': 'Kr',\n",
    "    'department': 'Quant',\n",
    "    'qualification': 'BE',\n",
    "    'age': 25\n",
    "},{\n",
    "    'firstname': 'Mohit',\n",
    "    'lastname': 'Kumar',\n",
    "    'department': 'Quant',\n",
    "    'qualification': 'BE',\n",
    "    'age': 22\n",
    "}]"
   ]
  },
  {
   "cell_type": "code",
   "execution_count": 4,
   "metadata": {},
   "outputs": [
    {
     "data": {
      "text/plain": [
       "InsertManyResult([ObjectId('6589c4ca58e2a8fb00a828db'), ObjectId('6589c4ca58e2a8fb00a828dc'), ObjectId('6589c4ca58e2a8fb00a828dd')], acknowledged=True)"
      ]
     },
     "execution_count": 4,
     "metadata": {},
     "output_type": "execute_result"
    }
   ],
   "source": [
    "empinfo.insert_many(records)"
   ]
  },
  {
   "cell_type": "code",
   "execution_count": 5,
   "metadata": {},
   "outputs": [
    {
     "data": {
      "text/plain": [
       "{'_id': ObjectId('6589c4ca58e2a8fb00a828da'),\n",
       " 'firstname': 'Animesh',\n",
       " 'lastname': 'Kumar',\n",
       " 'department': 'Quant',\n",
       " 'qualification': 'BE',\n",
       " 'age': 29}"
      ]
     },
     "execution_count": 5,
     "metadata": {},
     "output_type": "execute_result"
    }
   ],
   "source": [
    "#Simple way of querying\n",
    "empinfo.find_one()"
   ]
  },
  {
   "cell_type": "code",
   "execution_count": 6,
   "metadata": {},
   "outputs": [
    {
     "name": "stdout",
     "output_type": "stream",
     "text": [
      "[{'firstname': 'Animesh', 'lastname': 'Kumar', 'department': 'Quant', 'qualification': 'Engineering', 'age': 20, '_id': ObjectId('6589c4ca58e2a8fb00a828db')}, {'firstname': 'Ani', 'lastname': 'Kr', 'department': 'Quant', 'qualification': 'BE', 'age': 25, '_id': ObjectId('6589c4ca58e2a8fb00a828dc')}, {'firstname': 'Mohit', 'lastname': 'Kumar', 'department': 'Quant', 'qualification': 'BE', 'age': 22, '_id': ObjectId('6589c4ca58e2a8fb00a828dd')}]\n",
      "[{'firstname': 'Animesh', 'lastname': 'Kumar', 'department': 'Quant', 'qualification': 'Engineering', 'age': 20, '_id': ObjectId('6589c4ca58e2a8fb00a828db')}, {'firstname': 'Ani', 'lastname': 'Kr', 'department': 'Quant', 'qualification': 'BE', 'age': 25, '_id': ObjectId('6589c4ca58e2a8fb00a828dc')}, {'firstname': 'Mohit', 'lastname': 'Kumar', 'department': 'Quant', 'qualification': 'BE', 'age': 22, '_id': ObjectId('6589c4ca58e2a8fb00a828dd')}]\n",
      "[{'firstname': 'Animesh', 'lastname': 'Kumar', 'department': 'Quant', 'qualification': 'Engineering', 'age': 20, '_id': ObjectId('6589c4ca58e2a8fb00a828db')}, {'firstname': 'Ani', 'lastname': 'Kr', 'department': 'Quant', 'qualification': 'BE', 'age': 25, '_id': ObjectId('6589c4ca58e2a8fb00a828dc')}, {'firstname': 'Mohit', 'lastname': 'Kumar', 'department': 'Quant', 'qualification': 'BE', 'age': 22, '_id': ObjectId('6589c4ca58e2a8fb00a828dd')}]\n",
      "[{'firstname': 'Animesh', 'lastname': 'Kumar', 'department': 'Quant', 'qualification': 'Engineering', 'age': 20, '_id': ObjectId('6589c4ca58e2a8fb00a828db')}, {'firstname': 'Ani', 'lastname': 'Kr', 'department': 'Quant', 'qualification': 'BE', 'age': 25, '_id': ObjectId('6589c4ca58e2a8fb00a828dc')}, {'firstname': 'Mohit', 'lastname': 'Kumar', 'department': 'Quant', 'qualification': 'BE', 'age': 22, '_id': ObjectId('6589c4ca58e2a8fb00a828dd')}]\n"
     ]
    }
   ],
   "source": [
    "#select * from employee information\n",
    "for record in empinfo.find():\n",
    "    print(records)"
   ]
  },
  {
   "cell_type": "code",
   "execution_count": 7,
   "metadata": {},
   "outputs": [
    {
     "name": "stdout",
     "output_type": "stream",
     "text": [
      "{'_id': ObjectId('6589c4ca58e2a8fb00a828dc'), 'firstname': 'Ani', 'lastname': 'Kr', 'department': 'Quant', 'qualification': 'BE', 'age': 25}\n"
     ]
    }
   ],
   "source": [
    "## query the json documents based on equality condtions\n",
    "#slect * from emloyeeinformation where first name = Animesh\n",
    "for records in empinfo.find({'firstname':'Ani'}):\n",
    "    print(records)"
   ]
  },
  {
   "cell_type": "code",
   "execution_count": 8,
   "metadata": {},
   "outputs": [
    {
     "name": "stdout",
     "output_type": "stream",
     "text": [
      "{'_id': ObjectId('6589c4ca58e2a8fb00a828da'), 'firstname': 'Animesh', 'lastname': 'Kumar', 'department': 'Quant', 'qualification': 'BE', 'age': 29}\n",
      "{'_id': ObjectId('6589c4ca58e2a8fb00a828db'), 'firstname': 'Animesh', 'lastname': 'Kumar', 'department': 'Quant', 'qualification': 'Engineering', 'age': 20}\n",
      "{'_id': ObjectId('6589c4ca58e2a8fb00a828dc'), 'firstname': 'Ani', 'lastname': 'Kr', 'department': 'Quant', 'qualification': 'BE', 'age': 25}\n",
      "{'_id': ObjectId('6589c4ca58e2a8fb00a828dd'), 'firstname': 'Mohit', 'lastname': 'Kumar', 'department': 'Quant', 'qualification': 'BE', 'age': 22}\n"
     ]
    }
   ],
   "source": [
    "#3 qury doument using query operaors($in,$lt,$gt)\n",
    "for records in empinfo.find({'qualification':{'$in':['BE','Engineering']}}):\n",
    "    print(records)"
   ]
  },
  {
   "cell_type": "code",
   "execution_count": 16,
   "metadata": {},
   "outputs": [
    {
     "name": "stdout",
     "output_type": "stream",
     "text": [
      "{'_id': ObjectId('6589c4ca58e2a8fb00a828da'), 'firstname': 'Animesh', 'lastname': 'Kumar', 'department': 'Quant', 'qualification': 'BE', 'age': 29}\n",
      "{'_id': ObjectId('6589c4ca58e2a8fb00a828dc'), 'firstname': 'Ani', 'lastname': 'Kr', 'department': 'Quant', 'qualification': 'BE', 'age': 25}\n",
      "{'_id': ObjectId('6589c4ca58e2a8fb00a828dd'), 'firstname': 'Mohit', 'lastname': 'Kumar', 'department': 'Quant', 'qualification': 'BE', 'age': 22}\n"
     ]
    }
   ],
   "source": [
    "# Using 'and' query operators , $lt less than operator\n",
    "for records in empinfo.find({'qualification': 'BE', 'age': {'$lt': 30}}):\n",
    "    print(records)\n",
    "                                                "
   ]
  },
  {
   "cell_type": "code",
   "execution_count": 22,
   "metadata": {},
   "outputs": [
    {
     "name": "stdout",
     "output_type": "stream",
     "text": [
      "{'_id': ObjectId('6589c4ca58e2a8fb00a828da'), 'firstname': 'Animesh', 'lastname': 'Kumar', 'department': 'Quant', 'qualification': 'BE', 'age': 29}\n",
      "{'_id': ObjectId('6589c4ca58e2a8fb00a828db'), 'firstname': 'Animesh', 'lastname': 'Kumar', 'department': 'Quant', 'qualification': 'Engineering', 'age': 20}\n",
      "{'_id': ObjectId('6589c4ca58e2a8fb00a828dc'), 'firstname': 'Ani', 'lastname': 'Kr', 'department': 'Quant', 'qualification': 'BE', 'age': 25}\n",
      "{'_id': ObjectId('6589c4ca58e2a8fb00a828dd'), 'firstname': 'Mohit', 'lastname': 'Kumar', 'department': 'Quant', 'qualification': 'BE', 'age': 22}\n"
     ]
    }
   ],
   "source": [
    "# or operator\n",
    "for records in empinfo.find({'$or':[{'firstname':'Animesh'},{'qualification':'BE'}]}):\n",
    "    print(records)"
   ]
  },
  {
   "cell_type": "code",
   "execution_count": 24,
   "metadata": {},
   "outputs": [
    {
     "data": {
      "text/plain": [
       "InsertManyResult([ObjectId('6589c75e58e2a8fb00a828de'), ObjectId('6589c75e58e2a8fb00a828df'), ObjectId('6589c75e58e2a8fb00a828e0'), ObjectId('6589c75e58e2a8fb00a828e1'), ObjectId('6589c75e58e2a8fb00a828e2')], acknowledged=True)"
      ]
     },
     "execution_count": 24,
     "metadata": {},
     "output_type": "execute_result"
    }
   ],
   "source": [
    "inventory = [\n",
    "    { 'item': \"journal\", 'qty': 25, 'size': { 'h': 14, 'w': 21,'uom': \"cm\" }, 'status': \"A\" },\n",
    "    { 'item': \"notebook\", 'qty': 50,'size': { 'h': 8.5, 'w': 11,'uom': \"in\" },'status': \"A\" },\n",
    "    { 'item': \"paper\", 'qty': 100, 'size': { 'h': 8.5, 'w': 11,'uom': \"in\" },'status': \"D\" },\n",
    "    { 'item': \"planner\", 'qty': 75, 'size': { 'h': 22.85,'w': 30,'uom': \"cm\" },'status': \"D\" },\n",
    "    { 'item': \"postcard\", 'qty': 45, 'size': { 'h': 10, 'w': 15.25,'uom': \"cm\" },'status': \"A\" }\n",
    "]\n",
    "\n",
    "mydb.inventory.insert_many(inventory)\n"
   ]
  },
  {
   "cell_type": "code",
   "execution_count": 28,
   "metadata": {},
   "outputs": [
    {
     "name": "stdout",
     "output_type": "stream",
     "text": [
      "{'_id': ObjectId('6589c75e58e2a8fb00a828de'), 'item': 'journal', 'qty': 25, 'size': {'h': 14, 'w': 21, 'uom': 'cm'}, 'status': 'A'}\n"
     ]
    }
   ],
   "source": [
    "for x in mydb.inventory.find({'size': { 'h': 14, 'w': 21,'uom': \"cm\" }}):\n",
    "    print(x)\n"
   ]
  },
  {
   "cell_type": "code",
   "execution_count": null,
   "metadata": {},
   "outputs": [],
   "source": []
  },
  {
   "cell_type": "code",
   "execution_count": null,
   "metadata": {},
   "outputs": [],
   "source": []
  },
  {
   "cell_type": "code",
   "execution_count": null,
   "metadata": {},
   "outputs": [],
   "source": []
  },
  {
   "cell_type": "code",
   "execution_count": null,
   "metadata": {},
   "outputs": [],
   "source": []
  },
  {
   "cell_type": "code",
   "execution_count": null,
   "metadata": {},
   "outputs": [],
   "source": []
  },
  {
   "cell_type": "code",
   "execution_count": null,
   "metadata": {},
   "outputs": [],
   "source": []
  },
  {
   "cell_type": "code",
   "execution_count": null,
   "metadata": {},
   "outputs": [],
   "source": []
  }
 ],
 "metadata": {
  "kernelspec": {
   "display_name": "Python 3 (ipykernel)",
   "language": "python",
   "name": "python3"
  },
  "language_info": {
   "codemirror_mode": {
    "name": "ipython",
    "version": 3
   },
   "file_extension": ".py",
   "mimetype": "text/x-python",
   "name": "python",
   "nbconvert_exporter": "python",
   "pygments_lexer": "ipython3",
   "version": "3.11.4"
  }
 },
 "nbformat": 4,
 "nbformat_minor": 4
}
