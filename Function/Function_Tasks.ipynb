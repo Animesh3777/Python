{
 "cells": [
  {
   "cell_type": "markdown",
   "id": "19b49aa0-a09a-41a2-bebe-04ed4725702f",
   "metadata": {},
   "source": [
    "Problem 1:Write a Python function that takes a list and returns a new list with unique elements of the first list.\n",
    "Input:\n",
    "[1,2,3,3,3,3,4,5]\n",
    "Output:\n",
    "[1, 2, 3, 4, 5]"
   ]
  },
  {
   "cell_type": "code",
   "execution_count": 4,
   "id": "fbbd77b7-72bb-4ec2-9d35-98e523719d6a",
   "metadata": {},
   "outputs": [
    {
     "name": "stdout",
     "output_type": "stream",
     "text": [
      "[1, 2, 3, 4, 5]\n"
     ]
    }
   ],
   "source": [
    "def unique(x):\n",
    "        return list(set(x))\n",
    "L=[1,2,3,3,3,3,4,5]\n",
    "print(unique(L))"
   ]
  },
  {
   "cell_type": "markdown",
   "id": "008547d4-f52d-4025-a6a5-9600f14c32fd",
   "metadata": {},
   "source": [
    "Problem-2: Write a Python function that accepts a hyphen-separated sequence of words as parameter and returns the words in a hyphen-separated sequence after sorting them alphabetically.\n",
    "Input:\n",
    "green-red-yellow-black-white\n",
    "Output:\n",
    "black-green-red-white-yellow"
   ]
  },
  {
   "cell_type": "code",
   "execution_count": 10,
   "id": "a26af095-65bf-4b94-a31d-c4fb7e370ccf",
   "metadata": {},
   "outputs": [
    {
     "name": "stdout",
     "output_type": "stream",
     "text": [
      "black-green-red-white-yellow\n"
     ]
    }
   ],
   "source": [
    "def sequence_sort_split(seq):\n",
    "    a=seq.split(\"-\")\n",
    "    b=sorted(a)\n",
    "    c=\"-\".join(b)\n",
    "    return c\n",
    "print(sequence_sort_split(\"green-red-yellow-black-white\"))"
   ]
  },
  {
   "cell_type": "markdown",
   "id": "91a4d2de-e262-4ce6-838c-9e6d2a51eaeb",
   "metadata": {},
   "source": [
    "Problem 3: Write a Python function that accepts a string and calculate the number of upper case letters and lower case letters.\n",
    "Sample String : 'AnimesH is an Online Mentorship Program fOr EnginEering studentS.'\n",
    "Expected Output :\n",
    "No. of Upper case characters :  9\n",
    "No. of Lower case Characters :  47"
   ]
  },
  {
   "cell_type": "code",
   "execution_count": 67,
   "id": "7271d835-4702-46de-ac15-1723ce8170dc",
   "metadata": {},
   "outputs": [
    {
     "data": {
      "text/plain": [
       "('Upper case character : 9 ', 'Lower case character : 47')"
      ]
     },
     "execution_count": 67,
     "metadata": {},
     "output_type": "execute_result"
    }
   ],
   "source": [
    "def upper_lower_count(string):\n",
    "    Upper=(\"No of Upper case character : {} \".format(sum(1 for char in a if char.isupper())))\n",
    "    Lower=(\"No of Lower case character : {}\".format(sum(1 for char in a if char.islower())))\n",
    "    \n",
    "    return Upper,Lower\n",
    "a='AnimesH is an Online Mentorship Program fOr EnginEering studentS.'\n",
    "upper_lower_count(a)"
   ]
  },
  {
   "cell_type": "code",
   "execution_count": 64,
   "id": "31dd4a93-5e64-4433-b983-8c7f1061ea64",
   "metadata": {},
   "outputs": [
    {
     "data": {
      "text/plain": [
       "65"
      ]
     },
     "execution_count": 64,
     "metadata": {},
     "output_type": "execute_result"
    }
   ],
   "source": [
    "len(a)"
   ]
  },
  {
   "cell_type": "markdown",
   "id": "21412e7d-b653-4388-b389-1dc471a35f4b",
   "metadata": {},
   "source": [
    "Problem 4: Write a Python program to print the even numbers from a given list.\n",
    "Sample List : [1, 2, 3, 4, 5, 6, 7, 8, 9]\n",
    "Expected Result : [2, 4, 6, 8]"
   ]
  },
  {
   "cell_type": "code",
   "execution_count": 61,
   "id": "7f58f52b-e995-45eb-aaae-c78fc19a5ed9",
   "metadata": {},
   "outputs": [
    {
     "data": {
      "text/plain": [
       "[2, 4, 6, 8, 10, 12]"
      ]
     },
     "execution_count": 61,
     "metadata": {},
     "output_type": "execute_result"
    }
   ],
   "source": [
    "# def even(x):\n",
    "#     output=[]\n",
    "#     for i in L:\n",
    "#         if i%2==0:\n",
    "#             output.append(i)\n",
    "#     return output\n",
    "# L=[1, 2, 3, 4, 5, 6, 7, 8, 9,10,11,12]\n",
    "# even(L)"
   ]
  },
  {
   "cell_type": "code",
   "execution_count": null,
   "id": "d0b7d316-ed1a-4efb-9246-f507d78e960f",
   "metadata": {},
   "outputs": [],
   "source": []
  },
  {
   "cell_type": "code",
   "execution_count": null,
   "id": "95d4cbed-6a51-42f4-b5d6-d98391fef855",
   "metadata": {},
   "outputs": [],
   "source": []
  },
  {
   "cell_type": "code",
   "execution_count": null,
   "id": "fb994936-bce8-4c6c-9beb-c9d8ccad571b",
   "metadata": {},
   "outputs": [],
   "source": []
  },
  {
   "cell_type": "code",
   "execution_count": null,
   "id": "e5279ef0-0313-462e-85ad-7ab77e96203e",
   "metadata": {},
   "outputs": [],
   "source": []
  },
  {
   "cell_type": "code",
   "execution_count": null,
   "id": "823b120e-35be-40b8-aba8-92eeeb105781",
   "metadata": {},
   "outputs": [],
   "source": []
  }
 ],
 "metadata": {
  "kernelspec": {
   "display_name": "Python 3 (ipykernel)",
   "language": "python",
   "name": "python3"
  },
  "language_info": {
   "codemirror_mode": {
    "name": "ipython",
    "version": 3
   },
   "file_extension": ".py",
   "mimetype": "text/x-python",
   "name": "python",
   "nbconvert_exporter": "python",
   "pygments_lexer": "ipython3",
   "version": "3.11.5"
  }
 },
 "nbformat": 4,
 "nbformat_minor": 5
}
