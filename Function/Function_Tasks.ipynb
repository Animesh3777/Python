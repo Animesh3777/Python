{
 "cells": [
  {
   "cell_type": "markdown",
   "id": "19b49aa0-a09a-41a2-bebe-04ed4725702f",
   "metadata": {},
   "source": [
    "Problem 1:Write a Python function that takes a list and returns a new list with unique elements of the first list.\n",
    "Input:\n",
    "[1,2,3,3,3,3,4,5]\n",
    "Output:\n",
    "[1, 2, 3, 4, 5]"
   ]
  },
  {
   "cell_type": "code",
   "execution_count": 4,
   "id": "fbbd77b7-72bb-4ec2-9d35-98e523719d6a",
   "metadata": {},
   "outputs": [
    {
     "name": "stdout",
     "output_type": "stream",
     "text": [
      "[1, 2, 3, 4, 5]\n"
     ]
    }
   ],
   "source": [
    "def unique(x):\n",
    "        return list(set(x))\n",
    "L=[1,2,3,3,3,3,4,5]\n",
    "print(unique(L))"
   ]
  },
  {
   "cell_type": "markdown",
   "id": "008547d4-f52d-4025-a6a5-9600f14c32fd",
   "metadata": {},
   "source": [
    "Problem-2: Write a Python function that accepts a hyphen-separated sequence of words as parameter and returns the words in a hyphen-separated sequence after sorting them alphabetically.\n",
    "Input:\n",
    "green-red-yellow-black-white\n",
    "Output:\n",
    "black-green-red-white-yellow"
   ]
  },
  {
   "cell_type": "code",
   "execution_count": 10,
   "id": "a26af095-65bf-4b94-a31d-c4fb7e370ccf",
   "metadata": {},
   "outputs": [
    {
     "name": "stdout",
     "output_type": "stream",
     "text": [
      "black-green-red-white-yellow\n"
     ]
    }
   ],
   "source": [
    "def sequence_sort_split(seq):\n",
    "    a=seq.split(\"-\")\n",
    "    b=sorted(a)\n",
    "    c=\"-\".join(b)\n",
    "    return c\n",
    "print(sequence_sort_split(\"green-red-yellow-black-white\"))"
   ]
  },
  {
   "cell_type": "markdown",
   "id": "91a4d2de-e262-4ce6-838c-9e6d2a51eaeb",
   "metadata": {},
   "source": [
    "Problem 3: Write a Python function that accepts a string and calculate the number of upper case letters and lower case letters.\n",
    "Sample String : 'AnimesH is an Online Mentorship Program fOr EnginEering studentS.'\n",
    "Expected Output :\n",
    "No. of Upper case characters :  9\n",
    "No. of Lower case Characters :  47"
   ]
  },
  {
   "cell_type": "code",
   "execution_count": 71,
   "id": "7271d835-4702-46de-ac15-1723ce8170dc",
   "metadata": {},
   "outputs": [
    {
     "data": {
      "text/plain": [
       "('No of Upper case character : 9 ', 'No of Lower case character : 47')"
      ]
     },
     "execution_count": 71,
     "metadata": {},
     "output_type": "execute_result"
    }
   ],
   "source": [
    "def upper_lower_count(string):\n",
    "    Upper=(\"No of Upper case character : {} \".format(sum(1 for char in a if char.isupper())))\n",
    "    Lower=(\"No of Lower case character : {}\".format(sum(1 for char in a if char.islower())))\n",
    "    \n",
    "    return Upper,Lower\n",
    "string='AnimesH is an Online Mentorship Program fOr EnginEering studentS.'\n",
    "upper_lower_count(string)"
   ]
  },
  {
   "cell_type": "markdown",
   "id": "21412e7d-b653-4388-b389-1dc471a35f4b",
   "metadata": {},
   "source": [
    "Problem 4: Write a Python program to print the even numbers from a given list.\n",
    "Sample List : [1, 2, 3, 4, 5, 6, 7, 8, 9]\n",
    "Expected Result : [2, 4, 6, 8]"
   ]
  },
  {
   "cell_type": "code",
   "execution_count": 72,
   "id": "7f58f52b-e995-45eb-aaae-c78fc19a5ed9",
   "metadata": {},
   "outputs": [
    {
     "data": {
      "text/plain": [
       "[2, 4, 6, 8, 10, 12]"
      ]
     },
     "execution_count": 72,
     "metadata": {},
     "output_type": "execute_result"
    }
   ],
   "source": [
    "def even(x):\n",
    "    output=[]\n",
    "    for i in L:\n",
    "        if i%2==0:\n",
    "            output.append(i)\n",
    "    return output\n",
    "L=[1, 2, 3, 4, 5, 6, 7, 8, 9,10,11,12]\n",
    "even(L)"
   ]
  },
  {
   "cell_type": "markdown",
   "id": "5d4bd3b7-eb3d-432d-9263-793dc1d61a31",
   "metadata": {},
   "source": [
    "Problem 5: Write a Python function to check whether a number is perfect or not.\n",
    "A Perfect number is a number that is half the sum of all of its positive divisors (including itself)."
   ]
  },
  {
   "cell_type": "code",
   "execution_count": 103,
   "id": "95d4cbed-6a51-42f4-b5d6-d98391fef855",
   "metadata": {},
   "outputs": [
    {
     "name": "stdin",
     "output_type": "stream",
     "text": [
      "Enter the number : 6\n"
     ]
    },
    {
     "name": "stdout",
     "output_type": "stream",
     "text": [
      "6 is a perfect number\n"
     ]
    }
   ],
   "source": [
    "def perfect_number():\n",
    "    n=int(input(\"Enter the number :\"))\n",
    "    divisors=[]\n",
    "    for i in range (1,n):\n",
    "        if n%i==0:\n",
    "            divisors.append(i)\n",
    "    sums=sum(divisors)\n",
    "    if sums==n:\n",
    "        return f\"{n} is a perfect number\"\n",
    "    else:\n",
    "        return f\"{n} is not a perfect number\"\n",
    "print(perfect_number())"
   ]
  },
  {
   "cell_type": "markdown",
   "id": "27b05899-dd88-4bb6-87b1-41aa7ce4f2ca",
   "metadata": {},
   "source": [
    "Problem-6 Write a python function that accepts a string as input and returns the word with most occurence.\n",
    "Input:\n",
    "hello how are you i am fine thank you\n",
    "Output\n",
    "you -> 3"
   ]
  },
  {
   "cell_type": "code",
   "execution_count": 116,
   "id": "e5279ef0-0313-462e-85ad-7ab77e96203e",
   "metadata": {},
   "outputs": [
    {
     "name": "stdout",
     "output_type": "stream",
     "text": [
      "you -> 3\n"
     ]
    }
   ],
   "source": [
    "def most_occurred_word(input_string):\n",
    "    words = input_string.split()\n",
    "    word_counts = {}\n",
    "\n",
    "    for word in words:\n",
    "        # Remove punctuation if present\n",
    "        cleaned_word = word.strip(\".,?!\").lower()\n",
    "\n",
    "        if cleaned_word in word_counts:\n",
    "            word_counts[cleaned_word] += 1\n",
    "        else:\n",
    "            word_counts[cleaned_word] = 1\n",
    "\n",
    "    # Find the word with the maximum occurrence\n",
    "    most_occurred_word = max(word_counts, key=word_counts.get)\n",
    "    occurrence_count = word_counts[most_occurred_word]\n",
    "\n",
    "    return f\"{most_occurred_word} -> {occurrence_count}\"\n",
    "\n",
    "# Example usage:\n",
    "input_text = \"hello how are you i am fine thank you. How are you?\"\n",
    "result = most_occurred_word(input_text)\n",
    "print(result)"
   ]
  },
  {
   "cell_type": "code",
   "execution_count": null,
   "id": "823b120e-35be-40b8-aba8-92eeeb105781",
   "metadata": {},
   "outputs": [],
   "source": []
  }
 ],
 "metadata": {
  "kernelspec": {
   "display_name": "Python 3 (ipykernel)",
   "language": "python",
   "name": "python3"
  },
  "language_info": {
   "codemirror_mode": {
    "name": "ipython",
    "version": 3
   },
   "file_extension": ".py",
   "mimetype": "text/x-python",
   "name": "python",
   "nbconvert_exporter": "python",
   "pygments_lexer": "ipython3",
   "version": "3.11.5"
  }
 },
 "nbformat": 4,
 "nbformat_minor": 5
}
