{
 "cells": [
  {
   "cell_type": "markdown",
   "id": "19b49aa0-a09a-41a2-bebe-04ed4725702f",
   "metadata": {},
   "source": [
    "1-Write a Python function that takes a list and returns a new list with unique elements of the first list.\n",
    "Exercise 1:\n",
    "Input:\n",
    "[1,2,3,3,3,3,4,5]\n",
    "Output:\n",
    "[1, 2, 3, 4, 5]"
   ]
  },
  {
   "cell_type": "code",
   "execution_count": null,
   "id": "fbbd77b7-72bb-4ec2-9d35-98e523719d6a",
   "metadata": {},
   "outputs": [],
   "source": [
    "def unique(x):\n",
    "    for i in L:\n",
    "        return(unique(L))\n",
    "L=[1,2,3,3,3,3,4,5]\n",
    "print(unique(L))\n"
   ]
  },
  {
   "cell_type": "code",
   "execution_count": null,
   "id": "b1e71813-2a6b-4b68-a888-71a685348ef1",
   "metadata": {},
   "outputs": [],
   "source": []
  }
 ],
 "metadata": {
  "kernelspec": {
   "display_name": "Python 3 (ipykernel)",
   "language": "python",
   "name": "python3"
  },
  "language_info": {
   "codemirror_mode": {
    "name": "ipython",
    "version": 3
   },
   "file_extension": ".py",
   "mimetype": "text/x-python",
   "name": "python",
   "nbconvert_exporter": "python",
   "pygments_lexer": "ipython3",
   "version": "3.11.5"
  }
 },
 "nbformat": 4,
 "nbformat_minor": 5
}
